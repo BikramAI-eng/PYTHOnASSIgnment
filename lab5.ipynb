{
  "nbformat": 4,
  "nbformat_minor": 0,
  "metadata": {
    "colab": {
      "provenance": [],
      "authorship_tag": "ABX9TyMpDVgFaltprUILzAmzkuLA",
      "include_colab_link": true
    },
    "kernelspec": {
      "name": "python3",
      "display_name": "Python 3"
    },
    "language_info": {
      "name": "python"
    }
  },
  "cells": [
    {
      "cell_type": "markdown",
      "metadata": {
        "id": "view-in-github",
        "colab_type": "text"
      },
      "source": [
        "<a href=\"https://colab.research.google.com/github/BikramAI-eng/PYTHOnASSIgnment/blob/main/lab5.ipynb\" target=\"_parent\"><img src=\"https://colab.research.google.com/assets/colab-badge.svg\" alt=\"Open In Colab\"/></a>"
      ]
    },
    {
      "cell_type": "code",
      "execution_count": null,
      "metadata": {
        "id": "A0DnIoDfIZwl"
      },
      "outputs": [],
      "source": []
    },
    {
      "cell_type": "code",
      "source": [],
      "metadata": {
        "id": "36xMv_ibIcLt"
      },
      "execution_count": null,
      "outputs": []
    },
    {
      "cell_type": "code",
      "source": [
        "class Book:\n",
        "    # Constructor: runs when we create a new Book object\n",
        "    def __init__(self, title, author, price):\n",
        "        self.title = title\n",
        "        self.author = author\n",
        "        self.price = price\n",
        "\n",
        "    # This method prints book details in a nice format\n",
        "    def display_info(self):\n",
        "        print(f\"Title: {self.title}\")\n",
        "        print(f\"Author: {self.author}\")\n",
        "        print(f\"Price: {self.price}\")\n",
        "\n",
        "    # This method updates the book price\n",
        "    def update_price(self, new_price):\n",
        "        self.price = new_price\n",
        "        print(f\" Price updated to {self.price}\")\n",
        "\n",
        "\n",
        "# --- Example usage ---\n",
        "book1 = Book(\"The Great Gatsby\", \"F. Scott Fitzgerald\", 499)\n",
        "\n",
        "print(\"Original Book Info:\")\n",
        "book1.display_info()\n",
        "\n",
        "print(\"\\nUpdating Price...\")\n",
        "book1.update_price(599)\n",
        "\n",
        "print(\"\\nAfter Update:\")\n",
        "book1.display_info()\n"
      ],
      "metadata": {
        "colab": {
          "base_uri": "https://localhost:8080/"
        },
        "id": "NLShMLb8IcPF",
        "outputId": "5756f86f-c30b-41d7-a861-296b659ea9bf"
      },
      "execution_count": 2,
      "outputs": [
        {
          "output_type": "stream",
          "name": "stdout",
          "text": [
            "Original Book Info:\n",
            "Title: The Great Gatsby\n",
            "Author: F. Scott Fitzgerald\n",
            "Price: 499\n",
            "\n",
            "Updating Price...\n",
            " Price updated to 599\n",
            "\n",
            "After Update:\n",
            "Title: The Great Gatsby\n",
            "Author: F. Scott Fitzgerald\n",
            "Price: 599\n"
          ]
        }
      ]
    },
    {
      "cell_type": "code",
      "source": [
        "class Student:\n",
        "    def __init__(self, name, marks):\n",
        "        self.name = name\n",
        "        self.marks = marks\n",
        "\n",
        "    def show_details(self):\n",
        "        print(f\" Name: {self.name}, Marks: {self.marks}\")\n",
        "\n",
        "\n",
        "# --- Creating 3 students ---\n",
        "s1 = Student(\"Arjun\", 91)\n",
        "s2 = Student(\"Mahindra\", 90)\n",
        "s3 = Student(\"Chanchal\", 78)\n",
        "\n",
        "print(\"\\nStudent Details:\")\n",
        "s1.show_details()\n",
        "s2.show_details()\n",
        "s3.show_details()\n"
      ],
      "metadata": {
        "colab": {
          "base_uri": "https://localhost:8080/"
        },
        "id": "qoU38nlxIcSM",
        "outputId": "840acf54-c150-47a9-b99b-b80c73cd10b6"
      },
      "execution_count": 6,
      "outputs": [
        {
          "output_type": "stream",
          "name": "stdout",
          "text": [
            "\n",
            "Student Details:\n",
            " Name: Arjun, Marks: 91\n",
            " Name: Mahindra, Marks: 90\n",
            " Name: Chanchal, Marks: 78\n"
          ]
        }
      ]
    },
    {
      "cell_type": "code",
      "source": [
        "class BankAccount:\n",
        "    def __init__(self, account_holder, account_number, balance=0):\n",
        "        self.account_holder = account_holder\n",
        "        self.account_number = account_number\n",
        "        self.balance = balance\n",
        "\n",
        "    def deposit(self, amount):\n",
        "        self.balance += amount\n",
        "        print(f\" Deposited {amount}. New balance = {self.balance}\")\n",
        "\n",
        "    def withdraw(self, amount):\n",
        "        if amount <= self.balance:\n",
        "            self.balance -= amount\n",
        "            print(f\" Withdrew {amount}. New balance = {self.balance}\")\n",
        "        else:\n",
        "            print(\"Insufficient funds!\")\n",
        "\n",
        "    def show_balance(self):\n",
        "        print(f\" Current Balance for {self.account_holder}: {self.balance}\")\n",
        "\n",
        "\n",
        "# --- Example demonstration ---\n",
        "acc1 = BankAccount(\"Karisma\", \"ACC12345\", 100000)\n",
        "\n",
        "print(\"Initial Balance:\")\n",
        "acc1.show_balance()\n",
        "\n",
        "print(\"\\nDepositing money...\")\n",
        "acc1.deposit(5200)\n",
        "\n",
        "print(\"\\nWithdrawing money...\")\n",
        "acc1.withdraw(3100)\n",
        "\n",
        "print(\"\\nFinal Balance:\")\n",
        "acc1.show_balance()\n"
      ],
      "metadata": {
        "colab": {
          "base_uri": "https://localhost:8080/"
        },
        "id": "YLk3tcfRIcVc",
        "outputId": "25c7d07f-37f7-4dea-91d3-93cbc2b0161a"
      },
      "execution_count": 11,
      "outputs": [
        {
          "output_type": "stream",
          "name": "stdout",
          "text": [
            "Initial Balance:\n",
            " Current Balance for Karisma: 100000\n",
            "\n",
            "Depositing money...\n",
            " Deposited 5200. New balance = 105200\n",
            "\n",
            "Withdrawing money...\n",
            " Withdrew 3100. New balance = 102100\n",
            "\n",
            "Final Balance:\n",
            " Current Balance for Karisma: 102100\n"
          ]
        }
      ]
    },
    {
      "cell_type": "code",
      "source": [],
      "metadata": {
        "id": "-pyWVt1iIcZC"
      },
      "execution_count": null,
      "outputs": []
    },
    {
      "cell_type": "code",
      "source": [],
      "metadata": {
        "id": "vzOsNIbcIccC"
      },
      "execution_count": null,
      "outputs": []
    },
    {
      "cell_type": "code",
      "source": [],
      "metadata": {
        "id": "3Zzzrg29IcgD"
      },
      "execution_count": null,
      "outputs": []
    },
    {
      "cell_type": "code",
      "source": [],
      "metadata": {
        "id": "W_ApRFnYIcmT"
      },
      "execution_count": null,
      "outputs": []
    },
    {
      "cell_type": "code",
      "source": [],
      "metadata": {
        "id": "XoLxiwL7Icql"
      },
      "execution_count": null,
      "outputs": []
    },
    {
      "cell_type": "code",
      "source": [],
      "metadata": {
        "id": "cbWE9jjxIctk"
      },
      "execution_count": null,
      "outputs": []
    },
    {
      "cell_type": "code",
      "source": [],
      "metadata": {
        "id": "cvidS9D-Icvz"
      },
      "execution_count": null,
      "outputs": []
    },
    {
      "cell_type": "code",
      "source": [],
      "metadata": {
        "id": "LmQVkKMmIcz-"
      },
      "execution_count": null,
      "outputs": []
    }
  ]
}