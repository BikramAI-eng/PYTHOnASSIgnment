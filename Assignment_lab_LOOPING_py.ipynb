{
  "nbformat": 4,
  "nbformat_minor": 0,
  "metadata": {
    "colab": {
      "provenance": [],
      "authorship_tag": "ABX9TyNvYcYvQ2gQ680W9D8aXXta",
      "include_colab_link": true
    },
    "kernelspec": {
      "name": "python3",
      "display_name": "Python 3"
    },
    "language_info": {
      "name": "python"
    }
  },
  "cells": [
    {
      "cell_type": "markdown",
      "metadata": {
        "id": "view-in-github",
        "colab_type": "text"
      },
      "source": [
        "<a href=\"https://colab.research.google.com/github/BikramAI-eng/PYTHOnASSIgnment/blob/main/Assignment_lab_LOOPING_py.ipynb\" target=\"_parent\"><img src=\"https://colab.research.google.com/assets/colab-badge.svg\" alt=\"Open In Colab\"/></a>"
      ]
    },
    {
      "cell_type": "code",
      "execution_count": 48,
      "metadata": {
        "colab": {
          "base_uri": "https://localhost:8080/",
          "height": 0
        },
        "id": "LUIgSs7JIUNW",
        "outputId": "946a2733-f302-4acf-ef02-fcb52fa86643"
      },
      "outputs": [
        {
          "output_type": "stream",
          "name": "stdout",
          "text": [
            "Enter a number: 9\n",
            "\n",
            "Is 9 a prime number? False\n"
          ]
        }
      ],
      "source": [
        "# 1. Check if a number is prime or not\n",
        "\n",
        "n = int(input(\"Enter a number: \"))\n",
        "\n",
        "if n >= 0:\n",
        "    is_prime = n > 1 and all(n % i != 0 for i in range(2, int(n**0.5) + 1))\n",
        "    print(\"\\nIs\", n, \"a prime number?\", is_prime)\n",
        "else:\n",
        "    print(\"Invalid input. Please enter a non-negative integer.\")\n"
      ]
    },
    {
      "cell_type": "code",
      "source": [
        "# 2. Print even numbers from 1 to 100\n",
        "\n",
        "print(\"Even numbers from 1 to 100:\")\n",
        "for i in range(2, 101, 2):\n",
        "    print(i, end=' ')\n",
        "print()"
      ],
      "metadata": {
        "colab": {
          "base_uri": "https://localhost:8080/",
          "height": 0
        },
        "id": "fBjEat4xJG8h",
        "outputId": "69b92e74-cde7-4521-9a30-040123caba58"
      },
      "execution_count": 49,
      "outputs": [
        {
          "output_type": "stream",
          "name": "stdout",
          "text": [
            "Even numbers from 1 to 100:\n",
            "2 4 6 8 10 12 14 16 18 20 22 24 26 28 30 32 34 36 38 40 42 44 46 48 50 52 54 56 58 60 62 64 66 68 70 72 74 76 78 80 82 84 86 88 90 92 94 96 98 100 \n"
          ]
        }
      ]
    },
    {
      "cell_type": "code",
      "source": [
        "# 3. Factorial using while loop\n",
        "\n",
        "n = int(input(\"Enter a number\"))\n",
        "fact = 1\n",
        "i = 1\n",
        "while i <= n:\n",
        "    fact *= i\n",
        "    i += 1\n",
        "print(\" Factorial of\", n, \"is:\", fact)"
      ],
      "metadata": {
        "colab": {
          "base_uri": "https://localhost:8080/",
          "height": 0
        },
        "id": "uPPMihqWJG-c",
        "outputId": "e76f3c80-09d6-4366-f0e2-2ad3a5fb8dc9"
      },
      "execution_count": 50,
      "outputs": [
        {
          "output_type": "stream",
          "name": "stdout",
          "text": [
            "Enter a number6\n",
            " Factorial of 6 is: 720\n"
          ]
        }
      ]
    },
    {
      "cell_type": "code",
      "source": [
        "# 4. Multiplication table of a number\n",
        "\n",
        "n = int(input(\"Enter a number:\"))\n",
        "print(f\"4. Multiplication Table of {n}:\")\n",
        "for i in range(1, 11):\n",
        "    print(f\"{n} x {i} = {n*i}\")"
      ],
      "metadata": {
        "colab": {
          "base_uri": "https://localhost:8080/",
          "height": 0
        },
        "id": "UI06ShcZJHAS",
        "outputId": "20df8d35-f93e-48a2-eac8-bff87cb36c63"
      },
      "execution_count": 51,
      "outputs": [
        {
          "output_type": "stream",
          "name": "stdout",
          "text": [
            "Enter a number:9\n",
            "4. Multiplication Table of 9:\n",
            "9 x 1 = 9\n",
            "9 x 2 = 18\n",
            "9 x 3 = 27\n",
            "9 x 4 = 36\n",
            "9 x 5 = 45\n",
            "9 x 6 = 54\n",
            "9 x 7 = 63\n",
            "9 x 8 = 72\n",
            "9 x 9 = 81\n",
            "9 x 10 = 90\n"
          ]
        }
      ]
    },
    {
      "cell_type": "code",
      "source": [
        "# 5. Find max and min in a list\n",
        "\n",
        "lst = [3, 9, 1, 5, 8]\n",
        "print(\"Maximum value:\", max(lst))\n",
        "print(\"Minimum value:\", min(lst))"
      ],
      "metadata": {
        "colab": {
          "base_uri": "https://localhost:8080/",
          "height": 0
        },
        "id": "NS688KzMJHCY",
        "outputId": "432223a9-a386-4448-9429-fec3ef341aea"
      },
      "execution_count": 52,
      "outputs": [
        {
          "output_type": "stream",
          "name": "stdout",
          "text": [
            "Maximum value: 9\n",
            "Minimum value: 1\n"
          ]
        }
      ]
    },
    {
      "cell_type": "code",
      "source": [
        "\n",
        "# 6. Count positive, negative, and zero in a list\n",
        "\n",
        "numbers = [1, -2, 0, 5, -10 , -1, 0, 3, -4, 2, 0]\n",
        "pos = neg = zero = 0\n",
        "for num in numbers:\n",
        "    if num > 0:\n",
        "        pos += 1\n",
        "    elif num < 0:\n",
        "        neg += 1\n",
        "    else:\n",
        "        zero += 1\n",
        "print(\"Positives:\", pos, \"Negatives:\", neg, \"Zeros:\", zero)"
      ],
      "metadata": {
        "colab": {
          "base_uri": "https://localhost:8080/",
          "height": 0
        },
        "id": "RcShcXBMJHEX",
        "outputId": "98b8703e-7f8b-419d-f40a-4cb138a31b00"
      },
      "execution_count": 53,
      "outputs": [
        {
          "output_type": "stream",
          "name": "stdout",
          "text": [
            "Positives: 4 Negatives: 4 Zeros: 3\n"
          ]
        }
      ]
    },
    {
      "cell_type": "code",
      "source": [
        "# 7. Fibonacci sequence up to n terms\n",
        "\n",
        "n = int(input(\"Enter a number\"))\n",
        "a, b = 0, 1\n",
        "print(\"First\", n, \"terms of Fibonacci:\", end=' ')\n",
        "for _ in range(n):\n",
        "    print(a, end=' ')\n",
        "    a, b = b, a + b\n",
        "print()"
      ],
      "metadata": {
        "colab": {
          "base_uri": "https://localhost:8080/",
          "height": 0
        },
        "id": "izUzjU5QJHGT",
        "outputId": "c02f5431-ab75-4aa8-d5f2-1a8d5607f56f"
      },
      "execution_count": 54,
      "outputs": [
        {
          "output_type": "stream",
          "name": "stdout",
          "text": [
            "Enter a number6\n",
            "First 6 terms of Fibonacci: 0 1 1 2 3 5 \n"
          ]
        }
      ]
    },
    {
      "cell_type": "code",
      "source": [
        "# 8. Check if a string is palindrome\n",
        "num = input(\"Enter a number to check Palindrome or not: \")\n",
        "\n",
        "if num == num[::-1]:\n",
        "    print(\"Is\", num, \"a palindrome? Yes \")\n",
        "else:\n",
        "    print(\"Is\", num, \"a palindrome? No \")"
      ],
      "metadata": {
        "colab": {
          "base_uri": "https://localhost:8080/",
          "height": 0
        },
        "id": "RypQOZRuJHIJ",
        "outputId": "cad564c2-5722-4050-925b-11468f66d3b7"
      },
      "execution_count": 55,
      "outputs": [
        {
          "output_type": "stream",
          "name": "stdout",
          "text": [
            "Enter a number to check Palindrome or not: 898\n",
            "Is 898 a palindrome? Yes \n"
          ]
        }
      ]
    },
    {
      "cell_type": "code",
      "source": [
        "# 9. Print all 3-digit Armstrong numbers\n",
        "\n",
        "print(\" Armstrong numbers between 100 and 999:\")\n",
        "for num in range(100, 1000):\n",
        "\n",
        "    digits = [int(d) for d in str(num)]\n",
        "    if sum(d**3 for d in digits) == num:\n",
        "\n",
        "        print(   num, end=' ')\n",
        "print( )"
      ],
      "metadata": {
        "colab": {
          "base_uri": "https://localhost:8080/",
          "height": 0
        },
        "id": "vcubINcCJHKF",
        "outputId": "6df6d803-4955-4a85-bd6b-ec5090e905f6"
      },
      "execution_count": 56,
      "outputs": [
        {
          "output_type": "stream",
          "name": "stdout",
          "text": [
            " Armstrong numbers between 100 and 999:\n",
            "153 370 371 407 \n"
          ]
        }
      ]
    },
    {
      "cell_type": "code",
      "source": [
        "# 10. Menu-based calculator using conditions\n",
        "\n",
        "a = float(input(\"Enter first number: \"))\n",
        "\n",
        "op = input(\"Enter operator (+, -, *, /): \")\n",
        "\n",
        "b = float(input(\"Enter second number: \"))\n",
        "\n",
        "print(\"Calculator OUTPUT\")\n",
        "\n",
        "if op == '+':\n",
        "    print(\"Result:\", a + b)\n",
        "elif op == '-':\n",
        "    print(\"Result:\", a - b)\n",
        "elif op == '*':\n",
        "    print(\"Result:\", a * b)\n",
        "elif op == '/':\n",
        "    if b != 0:\n",
        "        print(\"Result:\", a / b)\n",
        "    else:\n",
        "        print(\"Error: Cannot divide by zero.\")\n",
        "else:\n",
        "    print(\"Invalid operator.\")\n"
      ],
      "metadata": {
        "colab": {
          "base_uri": "https://localhost:8080/",
          "height": 0
        },
        "id": "WP4GWBhmJHME",
        "outputId": "82453bcc-21c7-4e46-aff9-5df2f32bdf63"
      },
      "execution_count": 57,
      "outputs": [
        {
          "output_type": "stream",
          "name": "stdout",
          "text": [
            "Enter first number: 6\n",
            "Enter operator (+, -, *, /): /\n",
            "Enter second number: 2\n",
            "Calculator OUTPUT\n",
            "Result: 3.0\n"
          ]
        }
      ]
    },
    {
      "cell_type": "code",
      "source": [],
      "metadata": {
        "id": "dkpwSABPJHOE"
      },
      "execution_count": 57,
      "outputs": []
    },
    {
      "cell_type": "code",
      "source": [],
      "metadata": {
        "id": "NvBocR0_JHQK"
      },
      "execution_count": 57,
      "outputs": []
    },
    {
      "cell_type": "code",
      "source": [],
      "metadata": {
        "id": "UQyCIz-vJHfy"
      },
      "execution_count": 57,
      "outputs": []
    }
  ]
}