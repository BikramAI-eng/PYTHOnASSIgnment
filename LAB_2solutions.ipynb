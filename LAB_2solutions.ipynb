{
  "nbformat": 4,
  "nbformat_minor": 0,
  "metadata": {
    "colab": {
      "provenance": [],
      "authorship_tag": "ABX9TyMn2U1jZ5NFqql2uK3KirL6",
      "include_colab_link": true
    },
    "kernelspec": {
      "name": "python3",
      "display_name": "Python 3"
    },
    "language_info": {
      "name": "python"
    }
  },
  "cells": [
    {
      "cell_type": "markdown",
      "metadata": {
        "id": "view-in-github",
        "colab_type": "text"
      },
      "source": [
        "<a href=\"https://colab.research.google.com/github/BikramAI-eng/PYTHOnASSIgnment/blob/main/LAB_2solutions.ipynb\" target=\"_parent\"><img src=\"https://colab.research.google.com/assets/colab-badge.svg\" alt=\"Open In Colab\"/></a>"
      ]
    },
    {
      "cell_type": "code",
      "source": [],
      "metadata": {
        "id": "TDmUkvSkL7Ow"
      },
      "execution_count": null,
      "outputs": []
    },
    {
      "cell_type": "code",
      "source": [
        "#  Question 1: List Operations\n",
        "\n",
        "print(\"\\n=== Question 1: List Operations ===\")\n",
        "n = int(input(\"Enter how many numbers: \"))\n",
        "numbers = [int(input(f\"Enter number {i+1}: \")) for i in range(n)]\n",
        "\n",
        "# (i) Using Built-in Functions\n",
        "print(\"\\n-- Using Built-in Functions --\")\n",
        "print(\"Original List:\", numbers)\n",
        "print(\"Maximum:\", max(numbers))\n",
        "print(\"Minimum:\", min(numbers))\n",
        "print(\"Sorted List:\", sorted(numbers))\n",
        "print(\"List without Duplicates:\", list(set(numbers)))\n"
      ],
      "metadata": {
        "id": "atsujxtnL7X4"
      },
      "execution_count": null,
      "outputs": []
    },
    {
      "cell_type": "code",
      "source": [
        "# (a) Using Built-in Functions\n",
        "\n",
        "print(\"\\n-- Using Built-in Functions --\")\n",
        "print(\"Original List:\", numbers)\n",
        "print(\"Maximum:\", max(numbers))\n",
        "print(\"Minimum:\", min(numbers))\n",
        "print(\"Sorted List:\", sorted(numbers))\n",
        "print(\"List without Duplicates:\", list(set(numbers)))\n",
        "\n"
      ],
      "metadata": {
        "colab": {
          "base_uri": "https://localhost:8080/"
        },
        "id": "VHkNM6RMPsw_",
        "outputId": "89a7d14c-d986-4044-8d32-7073bf51615c"
      },
      "execution_count": 8,
      "outputs": [
        {
          "output_type": "stream",
          "name": "stdout",
          "text": [
            "\n",
            "-- Using Built-in Functions --\n",
            "Original List: [3, 6]\n",
            "Maximum: 6\n",
            "Minimum: 3\n",
            "Sorted List: [3, 6]\n",
            "List without Duplicates: [3, 6]\n"
          ]
        }
      ]
    },
    {
      "cell_type": "code",
      "source": [
        "# (b) Without Built-in Functions\n",
        "\n",
        "max_val = min_val = numbers[0]\n",
        "for num in numbers[1:]:\n",
        "    if num > max_val:\n",
        "        max_val = num\n",
        "    if num < min_val:\n",
        "        min_val = num\n",
        "\n",
        "# Manual Sorting\n",
        "\n",
        "sorted_list = numbers[:]\n",
        "for i in range(len(sorted_list)):\n",
        "    for j in range(i+1, len(sorted_list)):\n",
        "        if sorted_list[j] < sorted_list[i]:\n",
        "            sorted_list[i], sorted_list[j] = sorted_list[j], sorted_list[i]\n",
        "\n"
      ],
      "metadata": {
        "id": "aTXKtOMuL7ab"
      },
      "execution_count": null,
      "outputs": []
    },
    {
      "cell_type": "code",
      "source": [
        "#(c) Remove Duplicates Manually\n",
        "\n",
        "unique_list = []\n",
        "for num in numbers:\n",
        "    if num not in unique_list:\n",
        "        unique_list.append(num)\n",
        "\n",
        "print(\"Maximum (manual):\", max_val)\n",
        "print(\"Minimum (manual):\", min_val)\n",
        "print(\"Sorted (manual):\", sorted_list)\n",
        "print(\"Unique List (manual):\", unique_list)\n",
        "\n"
      ],
      "metadata": {
        "colab": {
          "base_uri": "https://localhost:8080/"
        },
        "id": "dUvNNcwjMcmn",
        "outputId": "dd83eae9-bf65-4494-eeb6-c6a8f348e884"
      },
      "execution_count": 18,
      "outputs": [
        {
          "output_type": "stream",
          "name": "stdout",
          "text": [
            "Maximum (manual): 6\n",
            "Minimum (manual): 3\n",
            "Sorted (manual): [3, 6]\n",
            "Unique List (manual): [3, 6]\n"
          ]
        }
      ]
    },
    {
      "cell_type": "code",
      "source": [
        "#Question 2: Merge Lists and Remove Common Elements\n",
        "\n",
        "list1 = list(map(lambda x: int(float(x)), input(\"Enter first list (comma-separated): \").split(',')))\n",
        "list2 = list(map(lambda x: int(float(x)), input(\"Enter second list (comma-separated): \").split(',')))\n",
        "merged = list1 + list2\n",
        "result = [x for x in merged if not (x in list1 and x in list2)]\n",
        "print(\"Result after removing common elements:\", result)"
      ],
      "metadata": {
        "colab": {
          "base_uri": "https://localhost:8080/"
        },
        "id": "a4vCNyDIMcps",
        "outputId": "1a8a7afc-b8ee-4c5a-9331-24dbb723ae73"
      },
      "execution_count": 29,
      "outputs": [
        {
          "output_type": "stream",
          "name": "stdout",
          "text": [
            "Enter first list (comma-separated): 3,6,7,9,4,5\n",
            "Enter second list (comma-separated): 6,9,3,1,20,56\n",
            "Result after removing common elements: [7, 4, 5, 1, 20, 56]\n"
          ]
        }
      ]
    },
    {
      "cell_type": "code",
      "source": [
        "# Question 3: Word Frequency from a Sentence\n",
        "\n",
        "\n",
        "sentence = input(\"Enter a sentence: \")\n",
        "words = sentence.split()\n",
        "word_freq = []\n",
        "for word in words:\n",
        "    count = 0\n",
        "    for w in words:\n",
        "        if word == w:\n",
        "            count += 1\n",
        "    if [word, count] not in word_freq:\n",
        "        word_freq.append([word, count])\n",
        "print(\"Word Frequencies:\")\n",
        "for word, count in word_freq:\n",
        "    print(f\"{word}: {count}\")\n"
      ],
      "metadata": {
        "colab": {
          "base_uri": "https://localhost:8080/"
        },
        "id": "jPneLsk9Mcsb",
        "outputId": "28d443f5-c1d3-46d2-bdf3-9f13564ef35d"
      },
      "execution_count": 30,
      "outputs": [
        {
          "output_type": "stream",
          "name": "stdout",
          "text": [
            "Enter a sentence: how happy are after being selected in the goup of selected army to UN\n",
            "Word Frequencies:\n",
            "how: 1\n",
            "happy: 1\n",
            "are: 1\n",
            "after: 1\n",
            "being: 1\n",
            "selected: 2\n",
            "in: 1\n",
            "the: 1\n",
            "goup: 1\n",
            "of: 1\n",
            "army: 1\n",
            "to: 1\n",
            "UN: 1\n"
          ]
        }
      ]
    },
    {
      "cell_type": "code",
      "source": [
        "# Question 4: Stack and Queue Using List\n",
        "\n",
        "\n",
        "stack = []\n",
        "queue = []\n",
        "while True:\n",
        "    print(\"\\n1. Push (Stack)\\n2. Pop (Stack)\\n3. Enqueue (Queue)\\n4. Dequeue (Queue)\\n\")\n",
        "    choice = int(input(\"Enter your choice: \"))\n",
        "    if choice == 1:\n",
        "        val = input(\"Enter value to push: \")\n",
        "        stack.append(val)\n",
        "        print(\"Stack:\", stack)\n",
        "    elif choice == 2:\n",
        "        print(\"Popped:\", stack.pop() if stack else \"Stack is empty\")\n",
        "    elif choice == 3:\n",
        "        val = input(\"Enter value to enqueue: \")\n",
        "        queue.append(val)\n",
        "        print(\"Queue:\", queue)\n",
        "    elif choice == 4:\n",
        "        print(\"Dequeued:\", queue.pop(0) if queue else \"Queue is empty\")\n",
        "    else:\n",
        "        print(\" INVALID INPUT \")\n",
        "        break\n",
        "\n"
      ],
      "metadata": {
        "colab": {
          "base_uri": "https://localhost:8080/"
        },
        "id": "imRunvzrMcvs",
        "outputId": "662a3669-5b79-45c1-961f-05fbb88081ea"
      },
      "execution_count": 51,
      "outputs": [
        {
          "output_type": "stream",
          "name": "stdout",
          "text": [
            "\n",
            "1. Push (Stack)\n",
            "2. Pop (Stack)\n",
            "3. Enqueue (Queue)\n",
            "4. Dequeue (Queue)\n",
            "\n",
            "Enter your choice: 6\n",
            " INVALID INPUT \n"
          ]
        }
      ]
    },
    {
      "cell_type": "code",
      "source": [
        "# Question 5: Even Index or Prime Elements\n",
        "\n",
        "def is_prime(n):\n",
        "    if n < 2: return False\n",
        "    for i in range(2, int(n**0.5)+1):\n",
        "        if n % i == 0:\n",
        "            return False\n",
        "    return True\n",
        "\n",
        "nums = list(map(int, input(\"Enter numbers: \").split()))\n",
        "filtered = [nums[i] for i in range(len(nums)) if i % 2 == 0 or is_prime(nums[i])]\n",
        "print(\"Filtered Result:\", filtered)\n",
        "\n"
      ],
      "metadata": {
        "colab": {
          "base_uri": "https://localhost:8080/"
        },
        "id": "YeGAvAU4MdEn",
        "outputId": "f76c86f6-576e-447e-c3a0-88ced0101868"
      },
      "execution_count": 52,
      "outputs": [
        {
          "output_type": "stream",
          "name": "stdout",
          "text": [
            "Enter numbers: 65\n",
            "Filtered Result: [65]\n"
          ]
        }
      ]
    },
    {
      "cell_type": "code",
      "source": [
        "# Question 6: Tuple Stats (Avg, Median, Mode)\n",
        "\n",
        "\n",
        "data = tuple(map(int, input(\"Enter tuple values: \").split()))\n",
        "average = sum(data) / len(data)\n",
        "sorted_data = sorted(data)\n",
        "mid = len(data) // 2\n",
        "median = (sorted_data[mid] + sorted_data[mid-1])/2 if len(data)%2==0 else sorted_data[mid]\n",
        "mode = max(set(data), key=data.count)\n",
        "print(\"Average:\", average)\n",
        "print(\"Median:\", median)\n",
        "print(\"Mode:\", mode)\n",
        "\n"
      ],
      "metadata": {
        "colab": {
          "base_uri": "https://localhost:8080/"
        },
        "id": "5n7GIKR1MdHg",
        "outputId": "e74317a0-38e8-41b0-ae88-989d07bc9527"
      },
      "execution_count": 54,
      "outputs": [
        {
          "output_type": "stream",
          "name": "stdout",
          "text": [
            "Enter tuple values: 5\n",
            "Average: 5.0\n",
            "Median: 5\n",
            "Mode: 5\n"
          ]
        }
      ]
    },
    {
      "cell_type": "code",
      "source": [
        "# Question 7: Check Straight Line from Points\n",
        "\n",
        "\n",
        "points = eval(input(\"Enter points like [(0,0),(1,1),(2,2)]: \"))\n",
        "is_line = True\n",
        "\n",
        "for i in range(1, len(points)):\n",
        "    x0, y0 = points[i - 1]\n",
        "    x1, y1 = points[i]\n",
        "    slope = (y1 - y0) / (x1 - x0) if x1 != x0 else None\n",
        "\n",
        "    # For the first pair, store the slope\n",
        "    if i == 1:\n",
        "        ref_slope = slope\n",
        "    else:\n",
        "        if slope != ref_slope:\n",
        "            is_line = False\n",
        "            break\n",
        "\n",
        "print(\"Do points form a line?:\", \"Yes\" if is_line else \"No\")\n"
      ],
      "metadata": {
        "colab": {
          "base_uri": "https://localhost:8080/"
        },
        "id": "jxqkOAsLMdKf",
        "outputId": "a342b365-eea3-4c94-f994-f31cce1a0cda"
      },
      "execution_count": 65,
      "outputs": [
        {
          "output_type": "stream",
          "name": "stdout",
          "text": [
            "Enter points like [(0,0),(1,1),(2,2)]: [(6,6),(9,9),(5,5)]\n",
            "Do points form a line?: Yes\n"
          ]
        }
      ]
    },
    {
      "cell_type": "code",
      "source": [
        "# Question 8: Sports Set Operations\n",
        "\n",
        "total_students = int(input(\"Enter total number of students in the class: \"))\n",
        "cricket = set(map(int, input(\"Enter cricket players' roll numbers (comma-separated): \").split(',')))\n",
        "football = set(map(int, input(\"Enter football players' roll numbers (comma-separated): \").split(',')))\n",
        "\n",
        "all_students = set(range(1, total_students + 1))\n",
        "both_sports = cricket & football\n",
        "only_one = cricket ^ football\n",
        "neither = all_students - (cricket | football)\n",
        "\n",
        "print(\"Play both cricket and football:\", sorted(both_sports))\n",
        "print(\"Only one sport:\", sorted(only_one))\n",
        "print(\"Play neither sport:\", sorted(neither))"
      ],
      "metadata": {
        "colab": {
          "base_uri": "https://localhost:8080/"
        },
        "id": "ULd-yXCHMdQN",
        "outputId": "6ab82956-19ec-4342-d679-9f7902c69169"
      },
      "execution_count": 72,
      "outputs": [
        {
          "output_type": "stream",
          "name": "stdout",
          "text": [
            "Enter total number of students in the class: 15\n",
            "Enter cricket players' roll numbers (comma-separated): 2,3,4,5,5,6,7,8,9\n",
            "Enter football players' roll numbers (comma-separated): 3,1,2,5,6,9,11,12,15,14\n",
            "Play both cricket and football: [2, 3, 5, 6, 9]\n",
            "Only one sport: [1, 4, 7, 8, 11, 12, 14, 15]\n",
            "Play neither sport: [10, 13]\n"
          ]
        }
      ]
    },
    {
      "cell_type": "code",
      "source": [
        "# Question 9: Set with Random Values\n",
        "\n",
        "\n",
        "import random\n",
        "s = set()\n",
        "while len(s) < 10:\n",
        "    s.add(random.randint(1, 50))\n",
        "print(\"Original Set:\", s)\n",
        "s.remove(min(s))\n",
        "s.remove(max(s))\n",
        "print(\"Modified Set:\", s)\n",
        "\n"
      ],
      "metadata": {
        "colab": {
          "base_uri": "https://localhost:8080/"
        },
        "id": "kPDSp28WMdT4",
        "outputId": "be6e4254-4020-4b52-ae08-c2fcac14abcc"
      },
      "execution_count": 73,
      "outputs": [
        {
          "output_type": "stream",
          "name": "stdout",
          "text": [
            "Original Set: {32, 3, 5, 9, 11, 15, 21, 26, 30, 31}\n",
            "Modified Set: {5, 9, 11, 15, 21, 26, 30, 31}\n"
          ]
        }
      ]
    },
    {
      "cell_type": "code",
      "source": [
        "# Question 10: Unique Vowels from Sentence\n",
        "\n",
        "sentence = input(\"Enter a sentence: \")\n",
        "vowels = {ch.lower() for ch in sentence if ch.lower() in 'aeiou'}\n",
        "print(\"Vowels used:\", vowels)\n",
        "\n"
      ],
      "metadata": {
        "colab": {
          "base_uri": "https://localhost:8080/"
        },
        "id": "Hh1WfX6kMdXw",
        "outputId": "1bb6acb2-73ff-409b-9c21-06f4e68b0260"
      },
      "execution_count": 74,
      "outputs": [
        {
          "output_type": "stream",
          "name": "stdout",
          "text": [
            "Enter a sentence: hello dear how are you! are you feeling wll or not darling.\n",
            "Vowels used: {'o', 'i', 'a', 'e', 'u'}\n"
          ]
        }
      ]
    },
    {
      "cell_type": "code",
      "source": [
        "# Question 11: Remove Duplicates and Sort List\n",
        "\n",
        "\n",
        "nums = list(map(int, input(\"Enter numbers: \").split()))\n",
        "unique_sorted = sorted(set(nums))\n",
        "print(\"Unique & Sorted List:\", unique_sorted)\n",
        "\n"
      ],
      "metadata": {
        "colab": {
          "base_uri": "https://localhost:8080/"
        },
        "id": "gTMFMeCeL7hn",
        "outputId": "b00f4efa-9a2a-4296-a5ba-cea3355025e7"
      },
      "execution_count": 75,
      "outputs": [
        {
          "output_type": "stream",
          "name": "stdout",
          "text": [
            "Enter numbers: 5 5 8 7 9 6 1 3\n",
            "Unique & Sorted List: [1, 3, 5, 6, 7, 8, 9]\n"
          ]
        }
      ]
    },
    {
      "cell_type": "code",
      "source": [
        "# Question 12: Student Dictionary Operations\n",
        "\n",
        "students = {\n",
        "    \"Ram\": [80, 90, 85],\n",
        "    \"Shyam\": [70, 75, 80],\n",
        "    \"Hari\": [88, 76, 90]\n",
        "}\n",
        "for name, marks in students.items():\n",
        "    print(f\"{name} -> Avg: {sum(marks)/3}\")\n",
        "topper = max(students, key=lambda x: sum(students[x])/3)\n",
        "print(\"Topper:\", topper)\n",
        "name = input(\"Update which student?: \")\n",
        "if name in students:\n",
        "    students[name] = list(map(int, input(\"Enter 3 new marks: \").split()))\n",
        "    print(\"Updated Marks:\", students[name])\n",
        "\n"
      ],
      "metadata": {
        "colab": {
          "base_uri": "https://localhost:8080/"
        },
        "id": "CgGxDqY8L7j6",
        "outputId": "e3577785-0ad6-485c-ea9d-426242f5f8c4"
      },
      "execution_count": 77,
      "outputs": [
        {
          "name": "stdout",
          "output_type": "stream",
          "text": [
            "Ram -> Avg: 85.0\n",
            "Shyam -> Avg: 75.0\n",
            "Hari -> Avg: 84.66666666666667\n",
            "Topper: Ram\n",
            "Update which student?: shyam\n"
          ]
        }
      ]
    },
    {
      "cell_type": "code",
      "source": [
        "# Question 13: Character Frequency in Text\n",
        "\n",
        "text = input(\"Enter text: \")\n",
        "freq = {}\n",
        "for ch in text:\n",
        "    if ch.isalnum():\n",
        "        ch = ch.lower()\n",
        "        freq[ch] = freq.get(ch, 0) + 1\n",
        "for ch, count in freq.items():\n",
        "    print(f\"{ch}: {count}\")\n",
        "\n"
      ],
      "metadata": {
        "colab": {
          "base_uri": "https://localhost:8080/"
        },
        "id": "YHts7nzuL7lu",
        "outputId": "5c479087-752a-4793-8a12-562351962666"
      },
      "execution_count": 78,
      "outputs": [
        {
          "output_type": "stream",
          "name": "stdout",
          "text": [
            "Enter text: hare krishna\n",
            "h: 2\n",
            "a: 2\n",
            "r: 2\n",
            "e: 1\n",
            "k: 1\n",
            "i: 1\n",
            "s: 1\n",
            "n: 1\n"
          ]
        }
      ]
    },
    {
      "cell_type": "code",
      "source": [
        "# Question 14: Product Price Management\n",
        "\n",
        "\n",
        "products = {}\n",
        "while True:\n",
        "    print(\"\\n1. Add\\n2. Update\\n3. Price Range\\n4. Exit\")\n",
        "    choice = int(input(\"Your choice: \"))\n",
        "    if choice == 1:\n",
        "        name = input(\"Product name: \")\n",
        "        price = float(input(\"Price: \"))\n",
        "        products[name] = price\n",
        "    elif choice == 2:\n",
        "        name = input(\"Product to update: \")\n",
        "        if name in products:\n",
        "            products[name] = float(input(\"New price: \"))\n",
        "    elif choice == 3:\n",
        "        low = float(input(\"Min price: \"))\n",
        "        high = float(input(\"Max price: \"))\n",
        "        for k, v in products.items():\n",
        "            if low <= v <= high:\n",
        "                print(f\"{k}: {v}\")\n",
        "    elif choice == 4:\n",
        "        break\n"
      ],
      "metadata": {
        "colab": {
          "base_uri": "https://localhost:8080/"
        },
        "id": "P12ucoFOL7n_",
        "outputId": "2b21046e-86a9-4045-a262-927ef43b65af"
      },
      "execution_count": 79,
      "outputs": [
        {
          "name": "stdout",
          "output_type": "stream",
          "text": [
            "\n",
            "1. Add\n",
            "2. Update\n",
            "3. Price Range\n",
            "4. Exit\n",
            "Your choice: 1\n",
            "Product name: lolipop\n",
            "Price: 20\n",
            "\n",
            "1. Add\n",
            "2. Update\n",
            "3. Price Range\n",
            "4. Exit\n",
            "Your choice: 2\n",
            "Product to update: lolipop\n",
            "New price: 30\n",
            "\n",
            "1. Add\n",
            "2. Update\n",
            "3. Price Range\n",
            "4. Exit\n",
            "Your choice: 4\n"
          ]
        }
      ]
    },
    {
      "cell_type": "code",
      "source": [
        "# Mini Project: Report Card System\n",
        "\n",
        "\n",
        "print(\"\\n=== Student Report Card System ===\")\n",
        "students = {}\n",
        "subjects = [\"Math\", \"Science\", \"English\"]\n",
        "\n",
        "def add_student():\n",
        "    roll = input(\"Roll No: \")\n",
        "    name = input(\"Name: \")\n",
        "    marks = [int(input(f\"{sub}: \")) for sub in subjects]\n",
        "    students[roll] = {\"name\": name, \"marks\": marks}\n",
        "\n",
        "def view_students():\n",
        "    for roll, data in students.items():\n",
        "        print(f\"Roll: {roll}, Name: {data['name']}, Marks: {data['marks']}\")\n",
        "\n",
        "def show_topper():\n",
        "    max_avg = 0\n",
        "    toppers = []\n",
        "    for roll, data in students.items():\n",
        "        avg = sum(data[\"marks\"]) / len(data[\"marks\"])\n",
        "        if avg > max_avg:\n",
        "            max_avg = avg\n",
        "            toppers = [roll]\n",
        "        elif avg == max_avg:\n",
        "            toppers.append(roll)\n",
        "    print(\"Topper(s):\", toppers)\n",
        "\n",
        "def search_student():\n",
        "    roll = input(\"Enter roll number: \")\n",
        "    print(students.get(roll, \"Not found\"))\n",
        "\n",
        "def show_failed():\n",
        "    for roll, data in students.items():\n",
        "        if any(m < 40 for m in data[\"marks\"]):\n",
        "            print(f\"Failed: {roll}, {data['name']} - {data['marks']}\")\n",
        "\n",
        "def update_marks():\n",
        "    roll = input(\"Enter roll: \")\n",
        "    if roll in students:\n",
        "        new_marks = [int(input(f\"{sub}: \")) for sub in subjects]\n",
        "        students[roll][\"marks\"] = new_marks\n",
        "        print(\"Marks updated\")\n",
        "\n",
        "while True:\n",
        "    print(\"\\n1.Add\\n2.View\\n3.Topper\\n4.Search\\n5.Failed\\n6.Update\\n7.Exit\")\n",
        "    ch = input(\"Choice: \")\n",
        "    if ch == \"1\":\n",
        "        add_student()\n",
        "    elif ch == \"2\":\n",
        "        view_students()\n",
        "    elif ch == \"3\":\n",
        "        show_topper()\n",
        "    elif ch == \"4\":\n",
        "        search_student()\n",
        "    elif ch == \"5\":\n",
        "        show_failed()\n",
        "    elif ch == \"6\":\n",
        "        update_marks()\n",
        "    elif ch == \"7\":\n",
        "        break\n",
        "\n",
        "\n"
      ],
      "metadata": {
        "colab": {
          "base_uri": "https://localhost:8080/"
        },
        "id": "ZzW4j-kqL7pE",
        "outputId": "ecefdff7-eb55-41e5-f845-1d90a058b46a"
      },
      "execution_count": 80,
      "outputs": [
        {
          "name": "stdout",
          "output_type": "stream",
          "text": [
            "\n",
            "=== Student Report Card System ===\n",
            "\n",
            "1.Add\n",
            "2.View\n",
            "3.Topper\n",
            "4.Search\n",
            "5.Failed\n",
            "6.Update\n",
            "7.Exit\n",
            "Choice: 2\n",
            "\n",
            "1.Add\n",
            "2.View\n",
            "3.Topper\n",
            "4.Search\n",
            "5.Failed\n",
            "6.Update\n",
            "7.Exit\n",
            "Choice: 2\n",
            "\n",
            "1.Add\n",
            "2.View\n",
            "3.Topper\n",
            "4.Search\n",
            "5.Failed\n",
            "6.Update\n",
            "7.Exit\n",
            "Choice: 1\n",
            "Roll No: 1\n",
            "Name: mbs\n",
            "Math: 56\n",
            "Science: 98\n",
            "English: 63\n",
            "\n",
            "1.Add\n",
            "2.View\n",
            "3.Topper\n",
            "4.Search\n",
            "5.Failed\n",
            "6.Update\n",
            "7.Exit\n",
            "Choice: 1\n",
            "Roll No: 6\n",
            "Name: nbm\n",
            "Math: 69\n",
            "Science: 98\n",
            "English: 88\n",
            "\n",
            "1.Add\n",
            "2.View\n",
            "3.Topper\n",
            "4.Search\n",
            "5.Failed\n",
            "6.Update\n",
            "7.Exit\n",
            "Choice: 1\n",
            "Roll No: 25\n",
            "Name: 99\n",
            "Math: 99\n",
            "Science: 99\n",
            "English: 99\n",
            "\n",
            "1.Add\n",
            "2.View\n",
            "3.Topper\n",
            "4.Search\n",
            "5.Failed\n",
            "6.Update\n",
            "7.Exit\n",
            "Choice: 3\n",
            "Topper(s): ['25']\n",
            "\n",
            "1.Add\n",
            "2.View\n",
            "3.Topper\n",
            "4.Search\n",
            "5.Failed\n",
            "6.Update\n",
            "7.Exit\n",
            "Choice: 4\n",
            "Enter roll number: 25\n",
            "{'name': '99', 'marks': [99, 99, 99]}\n",
            "\n",
            "1.Add\n",
            "2.View\n",
            "3.Topper\n",
            "4.Search\n",
            "5.Failed\n",
            "6.Update\n",
            "7.Exit\n",
            "Choice: 2\n",
            "Roll: 1, Name: mbs, Marks: [56, 98, 63]\n",
            "Roll: 6, Name: nbm, Marks: [69, 98, 88]\n",
            "Roll: 25, Name: 99, Marks: [99, 99, 99]\n",
            "\n",
            "1.Add\n",
            "2.View\n",
            "3.Topper\n",
            "4.Search\n",
            "5.Failed\n",
            "6.Update\n",
            "7.Exit\n",
            "Choice: 7\n"
          ]
        }
      ]
    },
    {
      "cell_type": "code",
      "source": [],
      "metadata": {
        "id": "HJJK7T-jL7sq"
      },
      "execution_count": null,
      "outputs": []
    },
    {
      "cell_type": "code",
      "source": [],
      "metadata": {
        "id": "_U6LrlynL7uY"
      },
      "execution_count": null,
      "outputs": []
    },
    {
      "cell_type": "code",
      "source": [],
      "metadata": {
        "id": "JhrhX9SzL7v9"
      },
      "execution_count": null,
      "outputs": []
    },
    {
      "cell_type": "code",
      "source": [],
      "metadata": {
        "id": "X_ADjl77L7xo"
      },
      "execution_count": null,
      "outputs": []
    },
    {
      "cell_type": "code",
      "source": [],
      "metadata": {
        "id": "MhR2Bni4L7zr"
      },
      "execution_count": null,
      "outputs": []
    },
    {
      "cell_type": "code",
      "source": [],
      "metadata": {
        "id": "3P1V42GGL723"
      },
      "execution_count": null,
      "outputs": []
    },
    {
      "cell_type": "code",
      "source": [],
      "metadata": {
        "id": "Tj7EzHlpL76g"
      },
      "execution_count": null,
      "outputs": []
    }
  ]
}