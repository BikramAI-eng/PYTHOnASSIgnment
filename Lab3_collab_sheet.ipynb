{
  "nbformat": 4,
  "nbformat_minor": 0,
  "metadata": {
    "colab": {
      "provenance": [],
      "authorship_tag": "ABX9TyPxfwJfffAYmqqta30feS/5",
      "include_colab_link": true
    },
    "kernelspec": {
      "name": "python3",
      "display_name": "Python 3"
    },
    "language_info": {
      "name": "python"
    }
  },
  "cells": [
    {
      "cell_type": "markdown",
      "metadata": {
        "id": "view-in-github",
        "colab_type": "text"
      },
      "source": [
        "<a href=\"https://colab.research.google.com/github/BikramAI-eng/PYTHOnASSIgnment/blob/main/Lab3_collab_sheet.ipynb\" target=\"_parent\"><img src=\"https://colab.research.google.com/assets/colab-badge.svg\" alt=\"Open In Colab\"/></a>"
      ]
    },
    {
      "cell_type": "code",
      "source": [
        "#Lab3\n",
        "# Q1: greet_user(name)\n",
        "\n",
        "def greet_user(name):\n",
        "    print(f\"Hello, {name}! Welcome to Python.\")\n",
        "greet_user(\"Vikram\")"
      ],
      "metadata": {
        "colab": {
          "base_uri": "https://localhost:8080/"
        },
        "id": "gZetixKItLAc",
        "outputId": "fc8f6d6f-6785-4bbd-df72-9aabe86e5647"
      },
      "execution_count": 30,
      "outputs": [
        {
          "output_type": "stream",
          "name": "stdout",
          "text": [
            "Hello, Vikram! Welcome to Python.\n"
          ]
        }
      ]
    },
    {
      "cell_type": "code",
      "source": [
        "# Q2: power() with default parameter\n",
        "\n",
        "def power(base, exponent=2):\n",
        "    return base ** exponent\n",
        "print(\"power(5):\", power(5))\n",
        "print(\"power(5, 3):\", power(5, 3))\n"
      ],
      "metadata": {
        "colab": {
          "base_uri": "https://localhost:8080/"
        },
        "id": "1Mn6IVJ6tLC3",
        "outputId": "cb35efbc-00c8-4475-8ad9-4cbebec6aa6e"
      },
      "execution_count": 19,
      "outputs": [
        {
          "output_type": "stream",
          "name": "stdout",
          "text": [
            "power(5): 25\n",
            "power(5, 3): 125\n"
          ]
        }
      ]
    },
    {
      "cell_type": "code",
      "source": [
        "# Q3: book_info() with keyword arguments\n",
        "\n",
        "def book_info(title, author, year):\n",
        "    print(f\"'{title}' by {author} ({year})\")\n",
        "book_info(title=\"Happy Sir\", author=\"Dharmendra majhi\", year=2049)\n",
        "book_info(author=\"Hari p.Sakya \", year=2054, title=\"The Fellowship of the Rising Sun\")"
      ],
      "metadata": {
        "colab": {
          "base_uri": "https://localhost:8080/"
        },
        "id": "AWkp11iStLId",
        "outputId": "acc557e5-7b2e-4bb7-9516-1f787617e974"
      },
      "execution_count": 20,
      "outputs": [
        {
          "output_type": "stream",
          "name": "stdout",
          "text": [
            "'Happy Sir' by Dharmendra majhi (2049)\n",
            "'The Fellowship of the Rising Sun' by Hari p.Sakya  (2054)\n"
          ]
        }
      ]
    },
    {
      "cell_type": "code",
      "source": [
        "# Q4: sum_numbers() with *args\n",
        "\n",
        "def sum_numbers(*args):\n",
        "    return sum(args)\n",
        "print(\"Sum (2 numbers):\", sum_numbers(7, 3))\n",
        "print(\"Sum (3 numbers):\", sum_numbers(1, 2, 3))\n",
        "print(\"Sum (5 numbers):\", sum_numbers(10, 20, 30, 40, 50))"
      ],
      "metadata": {
        "colab": {
          "base_uri": "https://localhost:8080/"
        },
        "id": "2MrAmBY5tLMJ",
        "outputId": "c0e31079-010e-4673-e361-4da5b222063e"
      },
      "execution_count": 21,
      "outputs": [
        {
          "output_type": "stream",
          "name": "stdout",
          "text": [
            "Sum (2 numbers): 10\n",
            "Sum (3 numbers): 6\n",
            "Sum (5 numbers): 150\n"
          ]
        }
      ]
    },
    {
      "cell_type": "code",
      "source": [
        "# Q5: student_profile() with **kwargs\n",
        "\n",
        "def student_profile(**kwargs):\n",
        "    for key, value in kwargs.items():\n",
        "        print(f\"{key}: {value}\")\n",
        "student_profile(name=\"Priya\", age=21, major=\"Engineering\", country=\"India\")"
      ],
      "metadata": {
        "colab": {
          "base_uri": "https://localhost:8080/"
        },
        "id": "ogwuB7KeotFJ",
        "outputId": "c37b50dd-6190-4ba9-ec53-c55e95dede8a"
      },
      "execution_count": 22,
      "outputs": [
        {
          "output_type": "stream",
          "name": "stdout",
          "text": [
            "name: Priya\n",
            "age: 21\n",
            "major: Engineering\n",
            "country: India\n"
          ]
        }
      ]
    },
    {
      "cell_type": "code",
      "source": [
        "# Q6: Lambda function for square\n",
        "\n",
        "square = lambda x: x**2\n",
        "print(\"Square of 5:\", square(5))\n",
        "print(\"Square of 12:\", square(12))\n"
      ],
      "metadata": {
        "colab": {
          "base_uri": "https://localhost:8080/"
        },
        "id": "-8aARV_ZotHY",
        "outputId": "8f4fe41a-014f-480b-f968-36b94074d688"
      },
      "execution_count": 23,
      "outputs": [
        {
          "output_type": "stream",
          "name": "stdout",
          "text": [
            "Square of 5: 25\n",
            "Square of 12: 144\n"
          ]
        }
      ]
    },
    {
      "cell_type": "code",
      "source": [
        "# Q7: map() to double numbers\n",
        "\n",
        "numbers = [1, 2, 3, 4, 5]\n",
        "doubled = list(map(lambda x: x*2, numbers))\n",
        "print(\"Doubled:\", doubled)"
      ],
      "metadata": {
        "colab": {
          "base_uri": "https://localhost:8080/"
        },
        "id": "LCUoDkPYotNC",
        "outputId": "7e779603-dcfa-408d-d859-7e8d104af065"
      },
      "execution_count": 24,
      "outputs": [
        {
          "output_type": "stream",
          "name": "stdout",
          "text": [
            "Doubled: [2, 4, 6, 8, 10]\n"
          ]
        }
      ]
    },
    {
      "cell_type": "code",
      "source": [
        "# Q8: filter() for multiples of 10\n",
        "\n",
        "numbers = [10, 15, 20, 25, 30]\n",
        "multiples_of_10 = list(filter(lambda x: x%10 == 0, numbers))\n",
        "print(\"Multiples of 10:\", multiples_of_10)"
      ],
      "metadata": {
        "colab": {
          "base_uri": "https://localhost:8080/"
        },
        "id": "q-UGVdawotPJ",
        "outputId": "d6a82a9a-80d5-4758-f98d-76d8f7d70c8e"
      },
      "execution_count": 25,
      "outputs": [
        {
          "output_type": "stream",
          "name": "stdout",
          "text": [
            "Multiples of 10: [10, 20, 30]\n"
          ]
        }
      ]
    },
    {
      "cell_type": "code",
      "source": [
        "#Q9: Temperature conversion (Celsius → Fahrenheit)\n",
        "\n",
        "celsius = [36.5, 37.0, 39.2, 35.6, 38.7]\n",
        "fahrenheit = list(map(lambda c: round((c * 9/5) + 32, 2), celsius))\n",
        "print(\"Fahrenheit:\", fahrenheit)"
      ],
      "metadata": {
        "colab": {
          "base_uri": "https://localhost:8080/"
        },
        "id": "6Ljw7H-aotTL",
        "outputId": "12a53302-741f-405d-a496-030de7acdafb"
      },
      "execution_count": 26,
      "outputs": [
        {
          "output_type": "stream",
          "name": "stdout",
          "text": [
            "Fahrenheit: [97.7, 98.6, 102.56, 96.08, 101.66]\n"
          ]
        }
      ]
    },
    {
      "cell_type": "code",
      "source": [
        "# Q10: Filter temperatures >100°F\n",
        "\n",
        "above_100 = list(filter(lambda f: f > 100, fahrenheit))\n",
        "print(\"Temps >100°F:\", above_100)\n"
      ],
      "metadata": {
        "colab": {
          "base_uri": "https://localhost:8080/"
        },
        "id": "JRXh-RXAotU7",
        "outputId": "fd895ed4-d6b4-4ec7-b7a1-49daf848250a"
      },
      "execution_count": 27,
      "outputs": [
        {
          "output_type": "stream",
          "name": "stdout",
          "text": [
            "Temps >100°F: [102.56, 101.66]\n"
          ]
        }
      ]
    },
    {
      "cell_type": "code",
      "source": [
        "# Mini Project: To-Do Manager\n",
        "\n",
        "print(\"\\n    Mini Project: To-Do Manager   \")\n",
        "def add_task(task_list, task_name):\n",
        "    task_list.append({\"name\": task_name, \"completed\": False})\n",
        "    return task_list\n",
        "\n",
        "def list_pending(task_list):\n",
        "    return list(filter(lambda task: not task[\"completed\"], task_list))\n",
        "\n",
        "def complete_all(task_list):\n",
        "    return [{\"name\": task[\"name\"], \"completed\": True} for task in task_list]\n",
        "\n",
        "def search_tasks(task_list, keyword):\n",
        "    return list(filter(\n",
        "        lambda task: keyword.lower() in task[\"name\"].lower(),\n",
        "        task_list\n",
        "    ))\n",
        "\n",
        "# Demo workflow\n",
        "tasks = []\n",
        "tasks = add_task(tasks, \"Buy groceries\")\n",
        "tasks = add_task(tasks, \"Finish assignment\")\n",
        "tasks = add_task(tasks, \"Call friend\")\n",
        "\n",
        "print(\"\\nPending Tasks:\")\n",
        "for task in list_pending(tasks):\n",
        "    print(f\"- {task['name']}\")\n",
        "\n",
        "tasks = complete_all(tasks)\n",
        "\n",
        "print(\"\\nSearch 'call':\")\n",
        "for task in search_tasks(tasks, \"call\"):\n",
        "    print(f\"- {task['name']} (Completed: {task['completed']})\")"
      ],
      "metadata": {
        "colab": {
          "base_uri": "https://localhost:8080/"
        },
        "id": "kvjwQUXSotXV",
        "outputId": "74223692-53dc-4672-e2eb-93747ae8967c"
      },
      "execution_count": 29,
      "outputs": [
        {
          "output_type": "stream",
          "name": "stdout",
          "text": [
            "\n",
            "    Mini Project: To-Do Manager   \n",
            "\n",
            "Pending Tasks:\n",
            "- Buy groceries\n",
            "- Finish assignment\n",
            "- Call friend\n",
            "\n",
            "Search 'call':\n",
            "- Call friend (Completed: True)\n"
          ]
        }
      ]
    }
  ]
}