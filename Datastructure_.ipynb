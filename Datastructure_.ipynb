{
  "nbformat": 4,
  "nbformat_minor": 0,
  "metadata": {
    "colab": {
      "provenance": [],
      "authorship_tag": "ABX9TyP85IOCRpSkH7ICThJXggmn",
      "include_colab_link": true
    },
    "kernelspec": {
      "name": "python3",
      "display_name": "Python 3"
    },
    "language_info": {
      "name": "python"
    }
  },
  "cells": [
    {
      "cell_type": "markdown",
      "metadata": {
        "id": "view-in-github",
        "colab_type": "text"
      },
      "source": [
        "<a href=\"https://colab.research.google.com/github/BikramAI-eng/PYTHOnASSIgnment/blob/main/Datastructure_.ipynb\" target=\"_parent\"><img src=\"https://colab.research.google.com/assets/colab-badge.svg\" alt=\"Open In Colab\"/></a>"
      ]
    },
    {
      "cell_type": "code",
      "execution_count": 37,
      "metadata": {
        "colab": {
          "base_uri": "https://localhost:8080/",
          "height": 0
        },
        "id": "I5hyiW2w-Gz6",
        "outputId": "230e97c3-01e1-402a-e9bf-4165be788958"
      },
      "outputs": [
        {
          "output_type": "stream",
          "name": "stdout",
          "text": [
            "Remove Duplicates from a List\n",
            "Unique numbers: [1, 2, 3, 4, 5, 8, 9]\n"
          ]
        }
      ],
      "source": [
        "# 1. Remove duplicates from a list\n",
        "\n",
        "print(\"Remove Duplicates from a List\")\n",
        "numbers = [1, 2, 2, 3, 4, 4, 5, 5, 8, 9, 9]\n",
        "\n",
        "x = list(set(numbers))\n",
        "print(\"Unique numbers:\", x)\n"
      ]
    },
    {
      "cell_type": "code",
      "source": [
        "# 2. Find max and min from a tuple\n",
        "\n",
        "num = (3, 7, 1, 9, 2, 6, 5)\n",
        "\n",
        "print(\"Max value:\", max(num))\n",
        "\n",
        "print(\"Min value:\", min(num))"
      ],
      "metadata": {
        "colab": {
          "base_uri": "https://localhost:8080/",
          "height": 0
        },
        "id": "akUyIf3PBlbo",
        "outputId": "b93eb126-815e-4262-fd87-c4b4d3e0c26a"
      },
      "execution_count": 38,
      "outputs": [
        {
          "output_type": "stream",
          "name": "stdout",
          "text": [
            "Max value: 9\n",
            "Min value: 1\n"
          ]
        }
      ]
    },
    {
      "cell_type": "code",
      "source": [
        "# 3. Return only even numbers from a list\n",
        "even = list(range(2, 51, 2))\n",
        "print(\"Even numbers from 2 to 100:\", even)"
      ],
      "metadata": {
        "colab": {
          "base_uri": "https://localhost:8080/",
          "height": 0
        },
        "id": "RWW84iDgBleO",
        "outputId": "9c96ba1f-0823-43fe-c8fc-1715bf1cbad5"
      },
      "execution_count": 39,
      "outputs": [
        {
          "output_type": "stream",
          "name": "stdout",
          "text": [
            "Even numbers from 2 to 100: [2, 4, 6, 8, 10, 12, 14, 16, 18, 20, 22, 24, 26, 28, 30, 32, 34, 36, 38, 40, 42, 44, 46, 48, 50]\n"
          ]
        }
      ]
    },
    {
      "cell_type": "code",
      "source": [
        "# 4. Count each character in a string using dictionary\n",
        "s = \"PULCHOWK_CAMPUS\"\n",
        "char_count = {}\n",
        "for ch in s:\n",
        "    char_count[ch] = char_count.get(ch, 0) + 1\n",
        "print(\"Character count in 'PULCHOWK':\", char_count)\n"
      ],
      "metadata": {
        "colab": {
          "base_uri": "https://localhost:8080/",
          "height": 0
        },
        "id": "dizirXorBlge",
        "outputId": "174b81ab-e658-496f-98fc-89aca214e0c8"
      },
      "execution_count": 40,
      "outputs": [
        {
          "output_type": "stream",
          "name": "stdout",
          "text": [
            "Character count in 'PULCHOWK': {'P': 2, 'U': 2, 'L': 1, 'C': 2, 'H': 1, 'O': 1, 'W': 1, 'K': 1, '_': 1, 'A': 1, 'M': 1, 'S': 1}\n"
          ]
        }
      ]
    },
    {
      "cell_type": "code",
      "source": [
        "# 5. Check if a number exists in a predefined set of primes\n",
        "primes = {2, 3, 5, 7, 11, 13, 17, 19, 23, 29, 31, 37, 41, 43, 47}\n",
        "n = 13\n",
        "print(\"Is\", n, \"a prime less than 50?\", n in primes)"
      ],
      "metadata": {
        "colab": {
          "base_uri": "https://localhost:8080/",
          "height": 0
        },
        "id": "qcOZh_MdBlj3",
        "outputId": "3efb20f4-d4a7-4a98-d893-ab55dcd7ef50"
      },
      "execution_count": 41,
      "outputs": [
        {
          "output_type": "stream",
          "name": "stdout",
          "text": [
            "Is 13 a prime less than 50? True\n"
          ]
        }
      ]
    },
    {
      "cell_type": "code",
      "source": [
        "# 6. Find common elements (intersection) of two lists\n",
        "list1 = [1, 2, 3, 4, 5, 9]\n",
        "list2 = [3, 4, 5, 6, 0, 10]\n",
        "intersection = list(set(list1) & set(list2))\n",
        "print(\"Common elements among both list:\", intersection)"
      ],
      "metadata": {
        "colab": {
          "base_uri": "https://localhost:8080/",
          "height": 0
        },
        "id": "OiRQ_5V4Blnf",
        "outputId": "6e0254b3-01e7-4095-90b9-90da7704b54c"
      },
      "execution_count": 42,
      "outputs": [
        {
          "output_type": "stream",
          "name": "stdout",
          "text": [
            "Common elements among both list: [3, 4, 5]\n"
          ]
        }
      ]
    },
    {
      "cell_type": "code",
      "source": [
        "# 7. Merge two dictionaries and add values of common keys\n",
        "d1 = {'a': 100, 'b': 200}\n",
        "d2 = {'b': 300, 'c': 400}\n",
        "merged = {k: d1.get(k, 0) + d2.get(k, 0) for k in set(d1) | set(d2)}\n",
        "print(\"Merged dictionary with added values:\", merged)\n"
      ],
      "metadata": {
        "colab": {
          "base_uri": "https://localhost:8080/",
          "height": 0
        },
        "id": "LVr9LP-QBlpm",
        "outputId": "208237d6-b735-4b00-c906-9751b0a32bfe"
      },
      "execution_count": 43,
      "outputs": [
        {
          "output_type": "stream",
          "name": "stdout",
          "text": [
            "Merged dictionary with added values: {'c': 400, 'a': 100, 'b': 500}\n"
          ]
        }
      ]
    },
    {
      "cell_type": "code",
      "source": [
        "# 8. Count how many times each name appears\n",
        "names = [\"BIKRAM\", \"BABY\", \"HARI\", \"MUKESH\" ,\"BIKRAM\"]\n",
        "name_count = {}\n",
        "for name in names:\n",
        "    name_count[name] = name_count.get(name, 0) + 1\n",
        "print(\" Name count:\", name_count)"
      ],
      "metadata": {
        "colab": {
          "base_uri": "https://localhost:8080/",
          "height": 0
        },
        "id": "tvMVOFu-Bltm",
        "outputId": "3aa6b09f-a992-4843-df07-69ca1b23f2a0"
      },
      "execution_count": 44,
      "outputs": [
        {
          "output_type": "stream",
          "name": "stdout",
          "text": [
            " Name count: {'BIKRAM': 2, 'BABY': 1, 'HARI': 1, 'MUKESH': 1}\n"
          ]
        }
      ]
    },
    {
      "cell_type": "code",
      "source": [
        "# 9. Remove elements in list1 that are also in list2\n",
        "listA = [1, 2, 3, 9, 7, 4]\n",
        "listB = [2, 4]\n",
        "filter = [x for x in listA if x not in listB]\n",
        "print(\"Filtered list (excluding common):\", filter)"
      ],
      "metadata": {
        "colab": {
          "base_uri": "https://localhost:8080/",
          "height": 0
        },
        "id": "Y5sq3g_lBlvW",
        "outputId": "ebb98cc5-036b-4fda-d4ca-2460f5d8a0f9"
      },
      "execution_count": 45,
      "outputs": [
        {
          "output_type": "stream",
          "name": "stdout",
          "text": [
            "Filtered list (excluding common): [1, 3, 9, 7]\n"
          ]
        }
      ]
    },
    {
      "cell_type": "code",
      "source": [
        "# 10. Search for a key in a dictionary\n",
        "data = {\"name\": \"Bikram\", \"roll\": \"644345\"}\n",
        "key = \"name\"\n",
        "print(f\"Value for key '{key}':\", data.get(key, \"Not found\"))\n"
      ],
      "metadata": {
        "colab": {
          "base_uri": "https://localhost:8080/",
          "height": 0
        },
        "id": "ZGJH_pklDUfb",
        "outputId": "2b76b36f-83ac-4883-e108-1f8787ffbd92"
      },
      "execution_count": 46,
      "outputs": [
        {
          "output_type": "stream",
          "name": "stdout",
          "text": [
            "Value for key 'name': Bikram\n"
          ]
        }
      ]
    },
    {
      "cell_type": "code",
      "source": [],
      "metadata": {
        "id": "qqWRPlaRDTxP"
      },
      "execution_count": 46,
      "outputs": []
    },
    {
      "cell_type": "code",
      "source": [],
      "metadata": {
        "id": "y_8UPt81BlxY"
      },
      "execution_count": 46,
      "outputs": []
    },
    {
      "cell_type": "code",
      "source": [],
      "metadata": {
        "id": "38iPDX_nBlzC"
      },
      "execution_count": 46,
      "outputs": []
    },
    {
      "cell_type": "code",
      "source": [],
      "metadata": {
        "id": "9Gp9uMEqBl2j"
      },
      "execution_count": 46,
      "outputs": []
    },
    {
      "cell_type": "code",
      "source": [],
      "metadata": {
        "id": "WansB03nBl5_"
      },
      "execution_count": 46,
      "outputs": []
    }
  ]
}